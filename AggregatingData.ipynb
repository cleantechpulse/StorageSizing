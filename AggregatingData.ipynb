{
 "cells": [
  {
   "cell_type": "code",
   "execution_count": 27,
   "metadata": {
    "collapsed": false,
    "deletable": true,
    "editable": true
   },
   "outputs": [
    {
     "name": "stdout",
     "output_type": "stream",
     "text": [
      "Current environment directory:/home/emunsing/Research/StorageLocation/env\n",
      "System version: 2.7.12 (default, Nov 19 2016, 06:48:10) \n",
      "[GCC 5.4.0 20160609]\n"
     ]
    }
   ],
   "source": [
    "import pandas as pd\n",
    "import os, sys, time, glob, pickle\n",
    "\n",
    "print(\"Current environment directory:\" + sys.prefix)\n",
    "print(\"System version: \"+sys.version)"
   ]
  },
  {
   "cell_type": "code",
   "execution_count": 55,
   "metadata": {
    "collapsed": false,
    "deletable": true,
    "editable": true
   },
   "outputs": [
    {
     "data": {
      "text/plain": [
       "862"
      ]
     },
     "execution_count": 55,
     "metadata": {},
     "output_type": "execute_result"
    }
   ],
   "source": [
    "try:\n",
    "    fname = os.environ['INPUTFILE']\n",
    "except KeyError:\n",
    "    fname = \"inputData/pricedata_LMP_100.csv\" # Only 100 nodes    \n",
    "\n",
    "APNode_Prices = pd.read_csv( fname, header=0,index_col=0)#,nrows=10)\n",
    "goodNodes = (APNode_Prices.isnull().sum(axis=1) < (0.02 * APNode_Prices.shape[1])) # True if node is less than x% NaN values\n",
    "APNode_Prices = APNode_Prices[goodNodes]\n",
    "    \n",
    "allNodeNames = APNode_Prices.index.values\n",
    "\n",
    "# Read all the dataframes, and return a dataframe from all the dataframes together\n",
    "allFiles = glob.glob('Data/efficiencyResults*temp.csv')\n",
    "dfList = []\n",
    "for fname in allFiles:\n",
    "    df = pd.read_csv(fname, index_col=0, header=0, usecols=[0,1,2,3])\n",
    "    dfList.append(df)\n",
    "allDfs = pd.concat(dfList)\n",
    "\n",
    "completed = allDfs.iloc[:,-1].dropna()\n",
    "uniqueCompleteNodes = completed.index.unique().values\n",
    "remainingNodes = list(set(allNodeNames) - set(uniqueCompleteNodes))\n",
    "remainingNodes.sort()\n",
    "\n",
    "with open('nodeList.pkl','wb') as f:\n",
    "    f.write(pickle.dumps(remainingNodes))\n",
    "    \n",
    "len(remainingNodes)"
   ]
  },
  {
   "cell_type": "code",
   "execution_count": 37,
   "metadata": {
    "collapsed": false
   },
   "outputs": [
    {
     "data": {
      "text/plain": [
       "862"
      ]
     },
     "execution_count": 37,
     "metadata": {},
     "output_type": "execute_result"
    }
   ],
   "source": [
    "with open('nodeList.pkl','rb')as f:\n",
    "    a = pickle.loads(f.read())\n",
    "\n",
    "len(a)"
   ]
  }
 ],
 "metadata": {
  "kernelspec": {
   "display_name": "Python 2",
   "language": "python",
   "name": "python2"
  },
  "language_info": {
   "codemirror_mode": {
    "name": "ipython",
    "version": 2
   },
   "file_extension": ".py",
   "mimetype": "text/x-python",
   "name": "python",
   "nbconvert_exporter": "python",
   "pygments_lexer": "ipython2",
   "version": "2.7.12"
  }
 },
 "nbformat": 4,
 "nbformat_minor": 2
}
