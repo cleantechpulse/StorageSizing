{
 "cells": [
  {
   "cell_type": "markdown",
   "metadata": {},
   "source": [
    "# Problem\n",
    "CyLP can result in unhandled exceptions when the internal CPP library results in a SYSABORT signal. Multiprocessing pools in Python 2.7 does not handle this (the Pool hangs indefinitely), and CyLP does not support Python 3.3 (where the hanging issue is fixed.\n",
    "\n",
    "For me running the cost sweep, 6 of the 10 worker processes resulted in this error.\n",
    "\n",
    "Ideally, we would like two implementations:\n",
    "- One which acts just like `multiprocessing.Pool.map()` but which returns `None` when the process errors\n",
    "- One in which the errors are caught as they arise, and then a process is started which continues working from the last spot."
   ]
  },
  {
   "cell_type": "markdown",
   "metadata": {},
   "source": [
    "## Simple implementation: Replicate `multiprocessing.Pool.Map()`\n",
    "\n",
    "Function takes in a list and a function identifier, and then returns a list of results, or None if the process died"
   ]
  },
  {
   "cell_type": "code",
   "execution_count": 1,
   "metadata": {
    "collapsed": true
   },
   "outputs": [],
   "source": [
    "import pandas as pd"
   ]
  },
  {
   "cell_type": "code",
   "execution_count": 15,
   "metadata": {
    "collapsed": true
   },
   "outputs": [],
   "source": [
    "fname = \"inputData/pricedata_LMP_100.csv\" # FULL\n",
    "APNode_Prices = pd.read_csv( fname, header=0,index_col=0)#,nrows=10)\n",
    "\n",
    "APNode_Prices.iloc[:,0:750].to_csv('inputData/priceData_LMP_100_short.csv')"
   ]
  },
  {
   "cell_type": "code",
   "execution_count": 4,
   "metadata": {
    "collapsed": false
   },
   "outputs": [
    {
     "data": {
      "text/plain": [
       "[0, 1, 2, 3, 4, 5, 6, 7, 8, 9]"
      ]
     },
     "execution_count": 4,
     "metadata": {},
     "output_type": "execute_result"
    }
   ],
   "source": [
    "data = range(13)\n",
    "chunksize = 3\n",
    "\n",
    "\n",
    "numChunks = 5\n",
    "\n",
    "data = range(numChunks * 2)\n",
    "\n",
    "[data[]]"
   ]
  },
  {
   "cell_type": "code",
   "execution_count": 6,
   "metadata": {
    "collapsed": true
   },
   "outputs": [],
   "source": [
    "data = range(13)\n",
    "chunksize = 3\n",
    "numchunks = len(data) / chunksize + 1  # Casts to int in division\n",
    "slices = [data[i*chunksize:min((i+1)*chunksize,len(data))] for i in range(numchunks)]"
   ]
  },
  {
   "cell_type": "code",
   "execution_count": 23,
   "metadata": {
    "collapsed": true
   },
   "outputs": [],
   "source": [
    "import multiprocessing\n",
    "myq = multiprocessing.Queue()"
   ]
  },
  {
   "cell_type": "code",
   "execution_count": 24,
   "metadata": {
    "collapsed": true
   },
   "outputs": [],
   "source": [
    "myq.put(dict())\n",
    "a = myq.get()"
   ]
  },
  {
   "cell_type": "code",
   "execution_count": 34,
   "metadata": {
    "collapsed": true
   },
   "outputs": [],
   "source": [
    "fname = 'inputData/priceData_LMP_100_short.csv'\n",
    "prices = pd.read_csv( fname, header=0,index_col=0)#,nrows=10)"
   ]
  },
  {
   "cell_type": "code",
   "execution_count": 37,
   "metadata": {
    "collapsed": false
   },
   "outputs": [
    {
     "data": {
      "text/plain": [
       "['CAPWIND_1_B1',\n",
       " 'CLAYTN_1_N001',\n",
       " 'OMAR1G_7_B1',\n",
       " 'AVOCADO_6_N002',\n",
       " 'KAMM_1_N001',\n",
       " 'HAMMONDS_1_N001',\n",
       " 'WARNERVL_2_B1',\n",
       " 'GOLDTREE_1_N001',\n",
       " 'KERMAN_6_N002',\n",
       " 'SANRAFL_1_N001',\n",
       " 'BAHIA_2_N011',\n",
       " 'BIXLER_6_N001',\n",
       " 'PETLMAC_6_N004',\n",
       " 'HOLGATE_1_N001',\n",
       " 'CONCHO_1_N002',\n",
       " 'LOSCCHS_6_N001',\n",
       " 'CREELMAN_6_N014',\n",
       " 'STDOIL_1_N009']"
      ]
     },
     "execution_count": 37,
     "metadata": {},
     "output_type": "execute_result"
    }
   ],
   "source": [
    "a = list(prices.index[2:20].values)\n",
    "a"
   ]
  },
  {
   "cell_type": "code",
   "execution_count": 39,
   "metadata": {
    "collapsed": false
   },
   "outputs": [],
   "source": [
    "incomplete = set(prices.index.values) - set(a)"
   ]
  },
  {
   "cell_type": "code",
   "execution_count": 48,
   "metadata": {
    "collapsed": false
   },
   "outputs": [],
   "source": [
    "import numpy as np"
   ]
  },
  {
   "cell_type": "code",
   "execution_count": 87,
   "metadata": {
    "collapsed": false
   },
   "outputs": [
    {
     "data": {
      "text/html": [
       "<div>\n",
       "<table border=\"1\" class=\"dataframe\">\n",
       "  <thead>\n",
       "    <tr style=\"text-align: right;\">\n",
       "      <th></th>\n",
       "      <th>Unnamed: 1</th>\n",
       "      <th>1.0</th>\n",
       "      <th>2.0</th>\n",
       "      <th>3.0</th>\n",
       "    </tr>\n",
       "  </thead>\n",
       "  <tbody>\n",
       "    <tr>\n",
       "      <th>AVOCADO_6_N002</th>\n",
       "      <td>profit</td>\n",
       "      <td>5.1</td>\n",
       "      <td>5.1</td>\n",
       "      <td>5.1</td>\n",
       "    </tr>\n",
       "    <tr>\n",
       "      <th>AVOCADO_6_N002</th>\n",
       "      <td>kwhPassed</td>\n",
       "      <td>5.2</td>\n",
       "      <td>5.2</td>\n",
       "      <td>5.2</td>\n",
       "    </tr>\n",
       "    <tr>\n",
       "      <th>AVOCADO_6_N002</th>\n",
       "      <td>size</td>\n",
       "      <td>5.0</td>\n",
       "      <td>5.0</td>\n",
       "      <td>5.0</td>\n",
       "    </tr>\n",
       "    <tr>\n",
       "      <th>BAHIA_2_N011</th>\n",
       "      <td>size</td>\n",
       "      <td>0.0</td>\n",
       "      <td>0.0</td>\n",
       "      <td>0.0</td>\n",
       "    </tr>\n",
       "    <tr>\n",
       "      <th>BAHIA_2_N011</th>\n",
       "      <td>profit</td>\n",
       "      <td>0.1</td>\n",
       "      <td>0.1</td>\n",
       "      <td>0.1</td>\n",
       "    </tr>\n",
       "  </tbody>\n",
       "</table>\n",
       "</div>"
      ],
      "text/plain": [
       "               Unnamed: 1  1.0  2.0  3.0\n",
       "AVOCADO_6_N002     profit  5.1  5.1  5.1\n",
       "AVOCADO_6_N002  kwhPassed  5.2  5.2  5.2\n",
       "AVOCADO_6_N002       size  5.0  5.0  5.0\n",
       "BAHIA_2_N011         size  0.0  0.0  0.0\n",
       "BAHIA_2_N011       profit  0.1  0.1  0.1"
      ]
     },
     "execution_count": 87,
     "metadata": {},
     "output_type": "execute_result"
    }
   ],
   "source": [
    "fname = 'Data/priceSweepResults.csv'\n",
    "joinedResults = pd.read_csv( fname, header=0,index_col=0).sort_index()#,nrows=10)\n",
    "joinedResults.head()"
   ]
  }
 ],
 "metadata": {
  "kernelspec": {
   "display_name": "Python 2",
   "language": "python",
   "name": "python2"
  },
  "language_info": {
   "codemirror_mode": {
    "name": "ipython",
    "version": 2
   },
   "file_extension": ".py",
   "mimetype": "text/x-python",
   "name": "python",
   "nbconvert_exporter": "python",
   "pygments_lexer": "ipython2",
   "version": "2.7.12"
  }
 },
 "nbformat": 4,
 "nbformat_minor": 1
}
