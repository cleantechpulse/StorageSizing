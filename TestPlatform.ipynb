{
 "cells": [
  {
   "cell_type": "markdown",
   "metadata": {},
   "source": [
    "# Test platform for deployment to server\n",
    "Check that code is running on both local and server before writing to static .py file"
   ]
  },
  {
   "cell_type": "code",
   "execution_count": 1,
   "metadata": {
    "collapsed": true
   },
   "outputs": [],
   "source": [
    "import os\n",
    "os.environ['INPUTFILE'] = 'inputData/pricedata_LMP_100_short.csv'\n",
    "\n",
    "%load_ext autoreload\n",
    "%autoreload 2"
   ]
  },
  {
   "cell_type": "code",
   "execution_count": 1,
   "metadata": {},
   "outputs": [
    {
     "name": "stdout",
     "output_type": "stream",
     "text": [
      "Running Storage Efficiency sweep\n",
      "Current environment directory:/home/emunsing/Research/StorageLocation/env\n",
      "System version: 2.7.12 (default, Nov 19 2016, 06:48:10) \n",
      "[GCC 5.4.0 20160609]\n",
      "Running Storage Efficiency sweep with input file inputData/pricedata_LMP_100.csv\n",
      "Finished Loading Data\n"
     ]
    }
   ],
   "source": [
    "from cylp.cy import CyClpSimplex\n",
    "from cylp.py.modeling.CyLPModel import CyLPArray\n",
    "\n",
    "import pandas as pd\n",
    "import numpy as np\n",
    "import scipy.sparse as sps1\n",
    "from copy import deepcopy\n",
    "from datetime import *\n",
    "import dateutil\n",
    "from dateutil import parser, relativedelta\n",
    "import pytz\n",
    "import sys, os, pickle\n",
    "\n",
    "\n",
    "from simulationFunctions import *\n",
    "\n",
    "import sys  # This is necessary for printing updates within a code block, via sys.stdout.flush()\n",
    "import time # Use time.sleep(secs) to sleep a process if needed\n",
    "\n",
    "print(\"Running Storage Efficiency sweep\")\n",
    "print(\"Current environment directory:\" + sys.prefix)\n",
    "print(\"System version: \"+sys.version)\n",
    "\n",
    "import warnings\n",
    "warnings.simplefilter(action = \"ignore\", category = FutureWarning)\n",
    "\n",
    "\n",
    "try:\n",
    "    fname = os.environ['INPUTFILE']\n",
    "except KeyError:\n",
    "    fname = \"inputData/pricedata_LMP_100.csv\" # Only 100 nodes    \n",
    "\n",
    "print(\"Running Storage Efficiency sweep with input file \"+fname)\n",
    "APNode_Prices = pd.read_csv( fname, header=0,index_col=0)#,nrows=10)\n",
    "APNode_Prices.columns = pd.DatetimeIndex(APNode_Prices.columns,tz=dateutil.tz.tzutc())  # Note: This will be in UTC time. Use .tz_localize(pytz.timezone('America/Los_Angeles')) if a local time zone is desired- but note that this will \n",
    "\n",
    "## Deal with NaN prices\n",
    "# Drop nodes which are above a cutoff\n",
    "goodNodes = (APNode_Prices.isnull().sum(axis=1) < (0.02 * APNode_Prices.shape[1])) # True if node is less than x% NaN values\n",
    "APNode_Prices = APNode_Prices[goodNodes]\n",
    "# Interpolate remaining NaNs\n",
    "APNode_Prices.interpolate(method='linear',axis=1)\n",
    "print(\"Finished Loading Data\")\n",
    "sys.stdout.flush()"
   ]
  },
  {
   "cell_type": "code",
   "execution_count": 2,
   "metadata": {
    "collapsed": true
   },
   "outputs": [],
   "source": [
    "negativeNodes = pickle.load(open('nodeList.pkl','rb'))"
   ]
  },
  {
   "cell_type": "code",
   "execution_count": 3,
   "metadata": {
    "collapsed": true
   },
   "outputs": [],
   "source": [
    "startDate = parser.parse('01/01/12 00:00')\n",
    "endDate   = parser.parse('12/31/16 23:00')\n",
    "# startDate = pytz.utc.localize(startDate)\n",
    "# endDate   = pytz.utc.localize(endDate)"
   ]
  },
  {
   "cell_type": "code",
   "execution_count": 4,
   "metadata": {},
   "outputs": [
    {
     "data": {
      "text/plain": [
       "(1, 43840)"
      ]
     },
     "execution_count": 4,
     "metadata": {},
     "output_type": "execute_result"
    }
   ],
   "source": [
    "thisSlice = APNode_Prices.loc[negativeNodes[0:1],startDate:endDate]\n",
    "thisSlice.shape"
   ]
  },
  {
   "cell_type": "code",
   "execution_count": 5,
   "metadata": {},
   "outputs": [
    {
     "name": "stdout",
     "output_type": "stream",
     "text": [
      "Simulation is 5.001 years long\n"
     ]
    }
   ],
   "source": [
    "reservoirSize=1\n",
    "E_min = 0\n",
    "E_max = 1\n",
    "# The 1-hour system will be SOC constrained, rather than power constrained. We accordingly don't worry about P_max and P_min\n",
    "\n",
    "# pid = multiprocessing.current_process().pid\n",
    "\n",
    "timestep = relativedelta.relativedelta(thisSlice.columns[2],thisSlice.columns[1])\n",
    "delta_T = timestep.hours  # Time-step in hours\n",
    "\n",
    "startDate = thisSlice.columns.values[ 0].astype('M8[m]').astype('O') # Convert to datetime, not timestamp\n",
    "endDate   = thisSlice.columns.values[-1].astype('M8[m]').astype('O')\n",
    "startDate = pytz.utc.localize(startDate)\n",
    "endDate   = pytz.utc.localize(endDate)\n",
    "timespan = relativedelta.relativedelta(endDate +timestep, startDate)\n",
    "simulationYears = timespan.years + timespan.months/12. + timespan.days/365. + timespan.hours/8760.  # Leap years will be slightly more than a year, and that's ok.\n",
    "\n",
    "print(\"Simulation is %.3f years long\"%simulationYears)"
   ]
  },
  {
   "cell_type": "code",
   "execution_count": 6,
   "metadata": {
    "collapsed": true
   },
   "outputs": [],
   "source": [
    "myEfficiencies = np.arange(0.7,1.01,0.1)\n",
    "lastEfficiency = 0  # This is used to track whether the efficiency has switched\n",
    "storagePrice = 0. * simulationYears # Amortized cost of storage\n",
    "myLength = thisSlice.shape[1]\n",
    "\n",
    "model = CyClpSimplex()\n",
    "model.logLevel = 0\n",
    "x_var = model.addVariable('x',myLength*3+2)\n",
    "h_constant = sps.hstack( [1, sps.coo_matrix((1, myLength*3+1))] ) # Force h to be a specific size:         \n",
    "(A,b) = createABineq_noPowerConstraint(myLength, E_min, E_max)\n",
    "\n",
    "# (A,b) = createABineq_noPowerConstraint(myLength, E_min, E_max, P_min, P_max)\n",
    "# (A,b, A_eq, B_eq) = createABMatrices(myLength, delta_T, eff_in, eff_out, P_min, P_max, E_min, E_max) \n",
    "\n",
    "model.addConstraint(h_constant * x_var == reservoirSize,'fixedSize')\n",
    "model.addConstraint(         A * x_var <= b.toarray(),  'inequalities')\n",
    "\n",
    "# Result dataframe: Size, kwhPassed, and profits for each node, at each efficiency (columns)\n",
    "resultIndex = pd.MultiIndex.from_product([thisSlice.index,['cycleCount','storageProfit']])\n",
    "results = pd.DataFrame(index = resultIndex, columns=myEfficiencies)\n",
    "powerOut = pd.DataFrame(index = thisSlice.index, columns = thisSlice.columns)"
   ]
  },
  {
   "cell_type": "code",
   "execution_count": 7,
   "metadata": {},
   "outputs": [
    {
     "name": "stdout",
     "output_type": "stream",
     "text": [
      "Working on node FRNCHGLH_6_N001\n",
      "Profits of 31.052 for efficiency 0.7\n",
      "Profits of 43.130 for efficiency 0.8\n",
      "Profits of 56.555 for efficiency 0.9\n",
      "Profits of 74.579 for efficiency 1.0\n"
     ]
    }
   ],
   "source": [
    "#### LOOP THROUGH nodes\n",
    "for i in range(thisSlice.shape[0]):\n",
    "    print(\"Working on node %s\"%thisSlice.index[i])\n",
    "    # Define cost function\n",
    "    myNodeName = thisSlice.index[i]\n",
    "    energyPrice = thisSlice.loc[myNodeName,:] / 1000.0 # Price $/kWh as array\n",
    "\n",
    "    c = np.concatenate([[storagePrice],[0]*(myLength+1),energyPrice,energyPrice],axis=0)  # No cost for storage state; charged for what we consume, get paid for what we discharge\n",
    "    c_clp = CyLPArray(c)\n",
    "    model.objective = c_clp * x_var\n",
    "\n",
    "    for eff_round in myEfficiencies:\n",
    "\n",
    "        if eff_round != lastEfficiency:  # If we just switched nodes (and not efficiencies) don't bother updating efficiencies\n",
    "            try:\n",
    "                model.removeConstraint('equalities')\n",
    "            except:\n",
    "                pass\n",
    "            try:\n",
    "                model.removeConstraint('powermax')\n",
    "            except:\n",
    "                pass\n",
    "            (eff_in, eff_out) = [np.sqrt(eff_round)] *2  # Properly account for the round trip efficiency of storage\n",
    "            P_max = E_max/eff_in # Max charge power, e.g max limit for C_i\n",
    "            P_min = -1*E_max*eff_out # Max discharge power, e.g. min D_i\n",
    "            (A_eq, b_eq) = createABeq(myLength, delta_T, eff_in, eff_out)\n",
    "            (A_P, b_p)   = createPowerConstraint(myLength, P_min, P_max)\n",
    "            model.addConstraint(A_eq * x_var == b_eq.toarray(),'equalities')\n",
    "            model.addConstraint(A_P  * x_var <= b_p,'powermax')\n",
    "\n",
    "        model.primal()  # Solve\n",
    "\n",
    "        x = model.primalVariableSolution['x']\n",
    "        results.loc[(myNodeName,'storageProfit'),eff_round] = np.dot(-c, x)   #Calculate profits at optimal storage level\n",
    "        c_grid = x[2+myLength : 2+myLength*2]\n",
    "        results.loc[(myNodeName,'cycleCount'),   eff_round] = sum(c_grid)*eff_in # net kWh traveled\n",
    "        print(\"Profits of %.3f for efficiency %s\" %(np.dot(-c,x), eff_round))\n",
    "        \n",
    "        if round(eff_round,2) == 0.9:\n",
    "            powerOut.loc[myNodeName,:] = x[2+myLength : 2+myLength*2] + x[2+myLength*2 : 2+myLength*3]\n",
    "\n",
    "        lastEfficiency = eff_round\n",
    "\n",
    "    # Done with the loop; reverse the efficiency set and move on to the next node\n",
    "    myEfficiencies = myEfficiencies[::-1]"
   ]
  },
  {
   "cell_type": "code",
   "execution_count": null,
   "metadata": {
    "collapsed": true
   },
   "outputs": [],
   "source": []
  }
 ],
 "metadata": {
  "kernelspec": {
   "display_name": "Python 2",
   "language": "python",
   "name": "python2"
  },
  "language_info": {
   "codemirror_mode": {
    "name": "ipython",
    "version": 2
   },
   "file_extension": ".py",
   "mimetype": "text/x-python",
   "name": "python",
   "nbconvert_exporter": "python",
   "pygments_lexer": "ipython2",
   "version": "2.7.12"
  }
 },
 "nbformat": 4,
 "nbformat_minor": 1
}
